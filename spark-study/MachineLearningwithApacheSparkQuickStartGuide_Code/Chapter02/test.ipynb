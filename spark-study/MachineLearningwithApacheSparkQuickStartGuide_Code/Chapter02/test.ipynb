{
 "cells": [
  {
   "cell_type": "code",
   "execution_count": 4,
   "metadata": {},
   "outputs": [],
   "source": [
    "## 필요한 라이브러리를 불러옵니다. \n",
    "import time\n",
    "import matplotlib.pyplot as plt\n",
    "import numpy as np \n",
    "import pandas as pd\n",
    "## pyspark를 불러옵니다.\n",
    "from pyspark import SparkContext\n",
    "# (1) Import required Python dependencies\n",
    "import findspark\n",
    "findspark.init()\n",
    "from pyspark import SparkContext, SparkConf\n",
    "import random\n",
    "\n",
    "## 이미 spark context가 살아 있으면 죽이고, 있으면 그대로 사용합니다. \n",
    "## spark context는 한 번에 여러 개 돌리려면 세팅에 몇 개를 추가해야 하는것 같아요. \n",
    "## 또한 스파크 컨텍스트를 제대로 구현하려면 여기에 넘겨야 하는 값들이 많이 있습니다만, 저는 테스트만 하려고 해서 이걸 대충 세팅했습니다. \n",
    "\n",
    "# (2) Instantiate the Spark Context\n",
    "#spark://6183cd7c29b0:7077\n",
    "conf = SparkConf().setMaster(\"spark://127.0.0.1:7077\").setAppName(\"Calculate Pi\")\n",
    "#conf = SparkConf().setMaster(\"spark://6183cd7c29b0:7077\").setAppName(\"Calculate Pi\")\n",
    "sc = SparkContext(conf=conf)\n",
    "if sc is None: \n",
    "    sc = SparkContext(master=\"local\", appName=\"first app\")\n",
    "else:\n",
    "    sc.stop()\n",
    "    sc = SparkContext(master=\"local\", appName=\"first app\")\n",
    "\n",
    "## 이미 spark context가 살아 있으면 죽이고, 있으면 그대로 사용합니다. \n",
    "## spark context는 한 번에 여러 개 돌리려면 세팅에 몇 개를 추가해야 하는것 같아요. \n",
    "## 또한 스파크 컨텍스트를 제대로 구현하려면 여기에 넘겨야 하는 값들이 많이 있습니다만, 저는 테스트만 하려고 해서 이걸 대충 세팅했습니다. \n",
    "if sc is None: \n",
    "    sc = SparkContext(master=\"local\", appName=\"first app\")\n",
    "else:\n",
    "    sc.stop()\n",
    "    sc = SparkContext(master=\"local\", appName=\"first app\")\n",
    "\n",
    "### peformance check \n",
    "spark_time_lst = []\n",
    "python_time_lst = []\n",
    "python_np_time_lst = []\n",
    "n_lst = [20000*i for i in range(0, 10)]\n",
    "for n in n_lst:\n",
    "    def each_k(k):\n",
    "        return 1/(16**k)*( 4/(8*k+1) - 2/(8*k+4) - 1/(8*k+5) - 1/(8*k+6))\n",
    "    ## with spark \n",
    "    start_time = time.time()\n",
    "    pi_approximated = sc.parallelize(range(0, n)).map(each_k).sum()\n",
    "    spark_time_lst.append(time.time()-start_time)\n",
    "    ## pure python\n",
    "    start_time = time.time()\n",
    "    pi_approximated = sum((each_k(k) for k in range(0, n)))\n",
    "    python_time_lst.append(time.time()-start_time)\n",
    "    ## with numpy \n",
    "    start_time = time.time()\n",
    "    pi_approximated = np.apply_along_axis(arr=np.array(range(0, 10)), func1d=each_k, axis=0).sum()\n",
    "    python_np_time_lst.append(time.time() - start_time)"
   ]
  },
  {
   "cell_type": "code",
   "execution_count": 6,
   "metadata": {},
   "outputs": [
    {
     "name": "stderr",
     "output_type": "stream",
     "text": [
      "No handles with labels found to put in legend.\n"
     ]
    },
    {
     "data": {
      "image/png": "[encoded data removed]",
      "text/plain": [
       "<Figure size 864x432 with 1 Axes>"
      ]
     },
     "metadata": {
      "needs_background": "light"
     },
     "output_type": "display_data"
    }
   ],
   "source": [
    "### plotting     \n",
    "df = pd.DataFrame({\n",
    "    \"spark\":spark_time_lst.copy(), \n",
    "    \"pure python\":python_time_lst.copy(), \n",
    "    \"python with numpy\":python_np_time_lst.copy()\n",
    "}, index = [20000*i for i in range(0, 10)])\n",
    "plt.figure(figsize=(12, 6))\n",
    "plt.plot(df['spark'], 'ro-'), plt.plot(df['pure python'], 'bo-'), plt.plot(df['python with numpy'], 'go-')\n",
    "plt.legend(fontsize=25)\n",
    "plt.xticks([20000*i for i in range(0, 10)], [20000*i for i in range(0, 10)])\n",
    "plt.savefig('./180831_pyspark_performance_check.svg')\n",
    "plt.show()"
   ]
  },
  {
   "cell_type": "code",
   "execution_count": null,
   "metadata": {},
   "outputs": [],
   "source": []
  }
 ],
 "metadata": {
  "kernelspec": {
   "display_name": "Python 3",
   "language": "python",
   "name": "python3"
  },
  "language_info": {
   "codemirror_mode": {
    "name": "ipython",
    "version": 3
   },
   "file_extension": ".py",
   "mimetype": "text/x-python",
   "name": "python",
   "nbconvert_exporter": "python",
   "pygments_lexer": "ipython3",
   "version": "3.7.3"
  }
 },
 "nbformat": 4,
 "nbformat_minor": 2
}
