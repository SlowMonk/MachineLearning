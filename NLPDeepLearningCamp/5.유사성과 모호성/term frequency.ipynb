{
 "cells": [
  {
   "cell_type": "code",
   "execution_count": 4,
   "metadata": {},
   "outputs": [],
   "source": [
    "import pandas as pd\n",
    "def get_term_frequency(document, word_dict = None):\n",
    "    if word_dict is None:\n",
    "        word_dict = {}\n",
    "    words = document.split()\n",
    "    \n",
    "    for w in words:\n",
    "        word_dict[w] = 1 + (0 if word_dict.get(w) is None else word_dict[w])\n",
    "    return pd.Series(word_dict).sort_values(ascending=False)"
   ]
  },
  {
   "cell_type": "code",
   "execution_count": 5,
   "metadata": {},
   "outputs": [],
   "source": [
    "document = \"가상의 유토피아적인 도시 오멜라스의 행복과, 그 이면에 존재하는 어둠에 대한 이야기를 다루고 있다. 행복하게 번영하는 여러 모로 이상적인 도시 오멜라스, 그 도시의 행복은 불가사의하게도 지하에 갇혀서 나가지 못하고 고통받는 어떤 아이의 희생이 있어야만 성립하는 것이다. 즉, 오멜라스가 지상낙원으로 존재하기 위해서는 그 아이가 계속 지하실에서 고통받고 있어야 하며 누구라도 그 아이를 조금이나마 도와줄 경우 오멜라스가 누리는 행복과 번영은 바로 그 순간에 자취를 감추게 된다는 것.[1] 오멜라스 주민들은 8~12살쯤 그 사실을 듣게 되기 때문에 자신들이 누리는 행복, 주민들 사이의 정 등이 그 아이의 비참한 처지 덕분에 있을 수 있다는 것을 알고 있다. 주민 대부분은 그 진실을 대면한 이후에도 여러 이유를 들어서 그 아이의 희생을 결국 받아들이고[2] 심지어 더 선하고, 더 열심히 살아가게 되지만 몇몇은 어디론가 떠나고 다시는 오멜라스로 돌아오지 않았다.\""
   ]
  },
  {
   "cell_type": "code",
   "execution_count": 6,
   "metadata": {},
   "outputs": [
    {
     "data": {
      "text/plain": [
       "그        9\n",
       "아이의      3\n",
       "누리는      2\n",
       "오멜라스가    2\n",
       "여러       2\n",
       "        ..\n",
       "정        1\n",
       "등이       1\n",
       "비참한      1\n",
       "처지       1\n",
       "가상의      1\n",
       "Length: 102, dtype: int64"
      ]
     },
     "execution_count": 6,
     "metadata": {},
     "output_type": "execute_result"
    }
   ],
   "source": [
    "get_term_frequency(document)"
   ]
  },
  {
   "cell_type": "code",
   "execution_count": null,
   "metadata": {},
   "outputs": [],
   "source": []
  }
 ],
 "metadata": {
  "kernelspec": {
   "display_name": "Python 3",
   "language": "python",
   "name": "python3"
  },
  "language_info": {
   "codemirror_mode": {
    "name": "ipython",
    "version": 3
   },
   "file_extension": ".py",
   "mimetype": "text/x-python",
   "name": "python",
   "nbconvert_exporter": "python",
   "pygments_lexer": "ipython3",
   "version": "3.7.3"
  }
 },
 "nbformat": 4,
 "nbformat_minor": 2
}
